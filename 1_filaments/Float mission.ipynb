{
 "cells": [
  {
   "cell_type": "code",
   "execution_count": 1,
   "id": "371b2c6b",
   "metadata": {},
   "outputs": [],
   "source": [
    "import os\n",
    "import xarray as xr\n",
    "import matplotlib.pyplot as plt\n",
    "from matplotlib.ticker import PercentFormatter\n",
    "import numpy as np\n",
    "import cmocean\n",
    "import seaborn as sns\n",
    "import datetime\n",
    "import gsw\n",
    "import imp\n",
    "\n",
    "%matplotlib inline\n",
    "\n",
    "plt.rcParams['font.size'] = '14'"
   ]
  },
  {
   "cell_type": "code",
   "execution_count": null,
   "id": "eee92286",
   "metadata": {},
   "outputs": [],
   "source": [
    "workingdir = r'C:\\Users\\mijakes\\checkouts\\phd-public'\n",
    "os.chdir(workingdir) "
   ]
  },
  {
   "cell_type": "code",
   "execution_count": 2,
   "id": "2e47593c",
   "metadata": {},
   "outputs": [],
   "source": [
    "import src.importData as imports\n",
    "import src.settings as settings\n",
    "import src.calc as calc"
   ]
  },
  {
   "cell_type": "code",
   "execution_count": null,
   "id": "e6a478dc",
   "metadata": {},
   "outputs": [],
   "source": [
    "my_path = os.path.join(os.sep, 'Users', 'mijakes', 'checkouts', 'phd','figures', 'chapter1_manuscript', 'revision_figures')"
   ]
  },
  {
   "cell_type": "code",
   "execution_count": 3,
   "id": "b1edd118",
   "metadata": {},
   "outputs": [],
   "source": [
    "floatids = [8489, 8492, 8493]\n",
    "ema = imports.importFloatData(floatids)\n",
    "\n",
    "# datadir = os.path.join(os.sep, 'Users', 'mijakes', 'checkouts', 'phd', 'data', 'floats')\n",
    "# ds = imports.sub_inertial_ds(ema, floatids, datadir, xdim = 'distance')"
   ]
  },
  {
   "cell_type": "code",
   "execution_count": 4,
   "id": "9bb85563",
   "metadata": {},
   "outputs": [],
   "source": [
    "abs_vels = {}\n",
    "rot_vels = {}\n",
    "\n",
    "datadir = os.path.join(os.sep, 'Users', 'mijakes', 'checkouts', 'phd', 'data', 'floats')\n",
    "                       \n",
    "for floatid in floatids:\n",
    "    #absolute velocities\n",
    "    file = os.path.join(datadir, 'absolute_velocity', 'by_profile', 'abs_vel_%s_extra_qc.nc' %floatid)\n",
    "    abs_vels[floatid] = xr.open_dataset(file)\n",
    "    \n",
    "    #rotated velocities\n",
    "    file = os.path.join(datadir, 'rotated_velocity', 'by_profile', 'rot_vel_%s.nc' %floatid)\n",
    "    rot_vels[floatid] = xr.open_dataset(file)"
   ]
  },
  {
   "cell_type": "code",
   "execution_count": 5,
   "id": "22462b64",
   "metadata": {},
   "outputs": [],
   "source": [
    "ds = imports.sub_inertial_ds(ema, floatids, datadir, xdim = 'profile')\n",
    "ds_dist = imports.sub_inertial_ds(ema, floatids, datadir, xdim = 'distance', rot_vels = rot_vels)"
   ]
  },
  {
   "cell_type": "code",
   "execution_count": 6,
   "id": "2111d443",
   "metadata": {},
   "outputs": [
    {
     "data": {
      "text/html": [
       "<div><svg style=\"position: absolute; width: 0; height: 0; overflow: hidden\">\n",
       "<defs>\n",
       "<symbol id=\"icon-database\" viewBox=\"0 0 32 32\">\n",
       "<path d=\"M16 0c-8.837 0-16 2.239-16 5v4c0 2.761 7.163 5 16 5s16-2.239 16-5v-4c0-2.761-7.163-5-16-5z\"></path>\n",
       "<path d=\"M16 17c-8.837 0-16-2.239-16-5v6c0 2.761 7.163 5 16 5s16-2.239 16-5v-6c0 2.761-7.163 5-16 5z\"></path>\n",
       "<path d=\"M16 26c-8.837 0-16-2.239-16-5v6c0 2.761 7.163 5 16 5s16-2.239 16-5v-6c0 2.761-7.163 5-16 5z\"></path>\n",
       "</symbol>\n",
       "<symbol id=\"icon-file-text2\" viewBox=\"0 0 32 32\">\n",
       "<path d=\"M28.681 7.159c-0.694-0.947-1.662-2.053-2.724-3.116s-2.169-2.030-3.116-2.724c-1.612-1.182-2.393-1.319-2.841-1.319h-15.5c-1.378 0-2.5 1.121-2.5 2.5v27c0 1.378 1.122 2.5 2.5 2.5h23c1.378 0 2.5-1.122 2.5-2.5v-19.5c0-0.448-0.137-1.23-1.319-2.841zM24.543 5.457c0.959 0.959 1.712 1.825 2.268 2.543h-4.811v-4.811c0.718 0.556 1.584 1.309 2.543 2.268zM28 29.5c0 0.271-0.229 0.5-0.5 0.5h-23c-0.271 0-0.5-0.229-0.5-0.5v-27c0-0.271 0.229-0.5 0.5-0.5 0 0 15.499-0 15.5 0v7c0 0.552 0.448 1 1 1h7v19.5z\"></path>\n",
       "<path d=\"M23 26h-14c-0.552 0-1-0.448-1-1s0.448-1 1-1h14c0.552 0 1 0.448 1 1s-0.448 1-1 1z\"></path>\n",
       "<path d=\"M23 22h-14c-0.552 0-1-0.448-1-1s0.448-1 1-1h14c0.552 0 1 0.448 1 1s-0.448 1-1 1z\"></path>\n",
       "<path d=\"M23 18h-14c-0.552 0-1-0.448-1-1s0.448-1 1-1h14c0.552 0 1 0.448 1 1s-0.448 1-1 1z\"></path>\n",
       "</symbol>\n",
       "</defs>\n",
       "</svg>\n",
       "<style>/* CSS stylesheet for displaying xarray objects in jupyterlab.\n",
       " *\n",
       " */\n",
       "\n",
       ":root {\n",
       "  --xr-font-color0: var(--jp-content-font-color0, rgba(0, 0, 0, 1));\n",
       "  --xr-font-color2: var(--jp-content-font-color2, rgba(0, 0, 0, 0.54));\n",
       "  --xr-font-color3: var(--jp-content-font-color3, rgba(0, 0, 0, 0.38));\n",
       "  --xr-border-color: var(--jp-border-color2, #e0e0e0);\n",
       "  --xr-disabled-color: var(--jp-layout-color3, #bdbdbd);\n",
       "  --xr-background-color: var(--jp-layout-color0, white);\n",
       "  --xr-background-color-row-even: var(--jp-layout-color1, white);\n",
       "  --xr-background-color-row-odd: var(--jp-layout-color2, #eeeeee);\n",
       "}\n",
       "\n",
       "html[theme=dark],\n",
       "body.vscode-dark {\n",
       "  --xr-font-color0: rgba(255, 255, 255, 1);\n",
       "  --xr-font-color2: rgba(255, 255, 255, 0.54);\n",
       "  --xr-font-color3: rgba(255, 255, 255, 0.38);\n",
       "  --xr-border-color: #1F1F1F;\n",
       "  --xr-disabled-color: #515151;\n",
       "  --xr-background-color: #111111;\n",
       "  --xr-background-color-row-even: #111111;\n",
       "  --xr-background-color-row-odd: #313131;\n",
       "}\n",
       "\n",
       ".xr-wrap {\n",
       "  display: block;\n",
       "  min-width: 300px;\n",
       "  max-width: 700px;\n",
       "}\n",
       "\n",
       ".xr-text-repr-fallback {\n",
       "  /* fallback to plain text repr when CSS is not injected (untrusted notebook) */\n",
       "  display: none;\n",
       "}\n",
       "\n",
       ".xr-header {\n",
       "  padding-top: 6px;\n",
       "  padding-bottom: 6px;\n",
       "  margin-bottom: 4px;\n",
       "  border-bottom: solid 1px var(--xr-border-color);\n",
       "}\n",
       "\n",
       ".xr-header > div,\n",
       ".xr-header > ul {\n",
       "  display: inline;\n",
       "  margin-top: 0;\n",
       "  margin-bottom: 0;\n",
       "}\n",
       "\n",
       ".xr-obj-type,\n",
       ".xr-array-name {\n",
       "  margin-left: 2px;\n",
       "  margin-right: 10px;\n",
       "}\n",
       "\n",
       ".xr-obj-type {\n",
       "  color: var(--xr-font-color2);\n",
       "}\n",
       "\n",
       ".xr-sections {\n",
       "  padding-left: 0 !important;\n",
       "  display: grid;\n",
       "  grid-template-columns: 150px auto auto 1fr 20px 20px;\n",
       "}\n",
       "\n",
       ".xr-section-item {\n",
       "  display: contents;\n",
       "}\n",
       "\n",
       ".xr-section-item input {\n",
       "  display: none;\n",
       "}\n",
       "\n",
       ".xr-section-item input + label {\n",
       "  color: var(--xr-disabled-color);\n",
       "}\n",
       "\n",
       ".xr-section-item input:enabled + label {\n",
       "  cursor: pointer;\n",
       "  color: var(--xr-font-color2);\n",
       "}\n",
       "\n",
       ".xr-section-item input:enabled + label:hover {\n",
       "  color: var(--xr-font-color0);\n",
       "}\n",
       "\n",
       ".xr-section-summary {\n",
       "  grid-column: 1;\n",
       "  color: var(--xr-font-color2);\n",
       "  font-weight: 500;\n",
       "}\n",
       "\n",
       ".xr-section-summary > span {\n",
       "  display: inline-block;\n",
       "  padding-left: 0.5em;\n",
       "}\n",
       "\n",
       ".xr-section-summary-in:disabled + label {\n",
       "  color: var(--xr-font-color2);\n",
       "}\n",
       "\n",
       ".xr-section-summary-in + label:before {\n",
       "  display: inline-block;\n",
       "  content: '►';\n",
       "  font-size: 11px;\n",
       "  width: 15px;\n",
       "  text-align: center;\n",
       "}\n",
       "\n",
       ".xr-section-summary-in:disabled + label:before {\n",
       "  color: var(--xr-disabled-color);\n",
       "}\n",
       "\n",
       ".xr-section-summary-in:checked + label:before {\n",
       "  content: '▼';\n",
       "}\n",
       "\n",
       ".xr-section-summary-in:checked + label > span {\n",
       "  display: none;\n",
       "}\n",
       "\n",
       ".xr-section-summary,\n",
       ".xr-section-inline-details {\n",
       "  padding-top: 4px;\n",
       "  padding-bottom: 4px;\n",
       "}\n",
       "\n",
       ".xr-section-inline-details {\n",
       "  grid-column: 2 / -1;\n",
       "}\n",
       "\n",
       ".xr-section-details {\n",
       "  display: none;\n",
       "  grid-column: 1 / -1;\n",
       "  margin-bottom: 5px;\n",
       "}\n",
       "\n",
       ".xr-section-summary-in:checked ~ .xr-section-details {\n",
       "  display: contents;\n",
       "}\n",
       "\n",
       ".xr-array-wrap {\n",
       "  grid-column: 1 / -1;\n",
       "  display: grid;\n",
       "  grid-template-columns: 20px auto;\n",
       "}\n",
       "\n",
       ".xr-array-wrap > label {\n",
       "  grid-column: 1;\n",
       "  vertical-align: top;\n",
       "}\n",
       "\n",
       ".xr-preview {\n",
       "  color: var(--xr-font-color3);\n",
       "}\n",
       "\n",
       ".xr-array-preview,\n",
       ".xr-array-data {\n",
       "  padding: 0 5px !important;\n",
       "  grid-column: 2;\n",
       "}\n",
       "\n",
       ".xr-array-data,\n",
       ".xr-array-in:checked ~ .xr-array-preview {\n",
       "  display: none;\n",
       "}\n",
       "\n",
       ".xr-array-in:checked ~ .xr-array-data,\n",
       ".xr-array-preview {\n",
       "  display: inline-block;\n",
       "}\n",
       "\n",
       ".xr-dim-list {\n",
       "  display: inline-block !important;\n",
       "  list-style: none;\n",
       "  padding: 0 !important;\n",
       "  margin: 0;\n",
       "}\n",
       "\n",
       ".xr-dim-list li {\n",
       "  display: inline-block;\n",
       "  padding: 0;\n",
       "  margin: 0;\n",
       "}\n",
       "\n",
       ".xr-dim-list:before {\n",
       "  content: '(';\n",
       "}\n",
       "\n",
       ".xr-dim-list:after {\n",
       "  content: ')';\n",
       "}\n",
       "\n",
       ".xr-dim-list li:not(:last-child):after {\n",
       "  content: ',';\n",
       "  padding-right: 5px;\n",
       "}\n",
       "\n",
       ".xr-has-index {\n",
       "  font-weight: bold;\n",
       "}\n",
       "\n",
       ".xr-var-list,\n",
       ".xr-var-item {\n",
       "  display: contents;\n",
       "}\n",
       "\n",
       ".xr-var-item > div,\n",
       ".xr-var-item label,\n",
       ".xr-var-item > .xr-var-name span {\n",
       "  background-color: var(--xr-background-color-row-even);\n",
       "  margin-bottom: 0;\n",
       "}\n",
       "\n",
       ".xr-var-item > .xr-var-name:hover span {\n",
       "  padding-right: 5px;\n",
       "}\n",
       "\n",
       ".xr-var-list > li:nth-child(odd) > div,\n",
       ".xr-var-list > li:nth-child(odd) > label,\n",
       ".xr-var-list > li:nth-child(odd) > .xr-var-name span {\n",
       "  background-color: var(--xr-background-color-row-odd);\n",
       "}\n",
       "\n",
       ".xr-var-name {\n",
       "  grid-column: 1;\n",
       "}\n",
       "\n",
       ".xr-var-dims {\n",
       "  grid-column: 2;\n",
       "}\n",
       "\n",
       ".xr-var-dtype {\n",
       "  grid-column: 3;\n",
       "  text-align: right;\n",
       "  color: var(--xr-font-color2);\n",
       "}\n",
       "\n",
       ".xr-var-preview {\n",
       "  grid-column: 4;\n",
       "}\n",
       "\n",
       ".xr-var-name,\n",
       ".xr-var-dims,\n",
       ".xr-var-dtype,\n",
       ".xr-preview,\n",
       ".xr-attrs dt {\n",
       "  white-space: nowrap;\n",
       "  overflow: hidden;\n",
       "  text-overflow: ellipsis;\n",
       "  padding-right: 10px;\n",
       "}\n",
       "\n",
       ".xr-var-name:hover,\n",
       ".xr-var-dims:hover,\n",
       ".xr-var-dtype:hover,\n",
       ".xr-attrs dt:hover {\n",
       "  overflow: visible;\n",
       "  width: auto;\n",
       "  z-index: 1;\n",
       "}\n",
       "\n",
       ".xr-var-attrs,\n",
       ".xr-var-data {\n",
       "  display: none;\n",
       "  background-color: var(--xr-background-color) !important;\n",
       "  padding-bottom: 5px !important;\n",
       "}\n",
       "\n",
       ".xr-var-attrs-in:checked ~ .xr-var-attrs,\n",
       ".xr-var-data-in:checked ~ .xr-var-data {\n",
       "  display: block;\n",
       "}\n",
       "\n",
       ".xr-var-data > table {\n",
       "  float: right;\n",
       "}\n",
       "\n",
       ".xr-var-name span,\n",
       ".xr-var-data,\n",
       ".xr-attrs {\n",
       "  padding-left: 25px !important;\n",
       "}\n",
       "\n",
       ".xr-attrs,\n",
       ".xr-var-attrs,\n",
       ".xr-var-data {\n",
       "  grid-column: 1 / -1;\n",
       "}\n",
       "\n",
       "dl.xr-attrs {\n",
       "  padding: 0;\n",
       "  margin: 0;\n",
       "  display: grid;\n",
       "  grid-template-columns: 125px auto;\n",
       "}\n",
       "\n",
       ".xr-attrs dt,\n",
       ".xr-attrs dd {\n",
       "  padding: 0;\n",
       "  margin: 0;\n",
       "  float: left;\n",
       "  padding-right: 10px;\n",
       "  width: auto;\n",
       "}\n",
       "\n",
       ".xr-attrs dt {\n",
       "  font-weight: normal;\n",
       "  grid-column: 1;\n",
       "}\n",
       "\n",
       ".xr-attrs dt:hover span {\n",
       "  display: inline-block;\n",
       "  background: var(--xr-background-color);\n",
       "  padding-right: 10px;\n",
       "}\n",
       "\n",
       ".xr-attrs dd {\n",
       "  grid-column: 2;\n",
       "  white-space: pre-wrap;\n",
       "  word-break: break-all;\n",
       "}\n",
       "\n",
       ".xr-icon-database,\n",
       ".xr-icon-file-text2 {\n",
       "  display: inline-block;\n",
       "  vertical-align: middle;\n",
       "  width: 1em;\n",
       "  height: 1.5em !important;\n",
       "  stroke-width: 0;\n",
       "  stroke: currentColor;\n",
       "  fill: currentColor;\n",
       "}\n",
       "</style><pre class='xr-text-repr-fallback'>&lt;xarray.DataArray &#x27;latitude&#x27; ()&gt;\n",
       "array(-7.29175165)\n",
       "Coordinates:\n",
       "    latitude  float64 -55.14</pre><div class='xr-wrap' hidden><div class='xr-header'><div class='xr-obj-type'>xarray.DataArray</div><div class='xr-array-name'>'latitude'</div></div><ul class='xr-sections'><li class='xr-section-item'><div class='xr-array-wrap'><input id='section-4cccb444-37c4-4a69-9a39-c3919a9a502f' class='xr-array-in' type='checkbox' checked><label for='section-4cccb444-37c4-4a69-9a39-c3919a9a502f' title='Show/hide data repr'><svg class='icon xr-icon-database'><use xlink:href='#icon-database'></use></svg></label><div class='xr-array-preview xr-preview'><span>-7.292</span></div><div class='xr-array-data'><pre>array(-7.29175165)</pre></div></div></li><li class='xr-section-item'><input id='section-526e90a4-2e80-4379-b689-7b5222bb247f' class='xr-section-summary-in' type='checkbox'  checked><label for='section-526e90a4-2e80-4379-b689-7b5222bb247f' class='xr-section-summary' >Coordinates: <span>(1)</span></label><div class='xr-section-inline-details'></div><div class='xr-section-details'><ul class='xr-var-list'><li class='xr-var-item'><div class='xr-var-name'><span>latitude</span></div><div class='xr-var-dims'>()</div><div class='xr-var-dtype'>float64</div><div class='xr-var-preview xr-preview'>-55.14</div><input id='attrs-4621ba4c-a973-4376-9cdd-7168e25b59a0' class='xr-var-attrs-in' type='checkbox' ><label for='attrs-4621ba4c-a973-4376-9cdd-7168e25b59a0' title='Show/Hide attributes'><svg class='icon xr-icon-file-text2'><use xlink:href='#icon-file-text2'></use></svg></label><input id='data-c9c0e4de-bb96-4fe4-bebc-163516ab3502' class='xr-var-data-in' type='checkbox'><label for='data-c9c0e4de-bb96-4fe4-bebc-163516ab3502' title='Show/Hide data repr'><svg class='icon xr-icon-database'><use xlink:href='#icon-database'></use></svg></label><div class='xr-var-attrs'><dl class='xr-attrs'><dt><span>standard_name :</span></dt><dd>latitude</dd><dt><span>units :</span></dt><dd>degree_north</dd><dt><span>long_name :</span></dt><dd>latitude</dd></dl></div><div class='xr-var-data'><pre>array(-55.14499333)</pre></div></li></ul></div></li><li class='xr-section-item'><input id='section-44eafa7c-4060-4f52-b223-7d9c3cb1378d' class='xr-section-summary-in' type='checkbox' disabled ><label for='section-44eafa7c-4060-4f52-b223-7d9c3cb1378d' class='xr-section-summary'  title='Expand/collapse section'>Attributes: <span>(0)</span></label><div class='xr-section-inline-details'></div><div class='xr-section-details'><dl class='xr-attrs'></dl></div></li></ul></div></div>"
      ],
      "text/plain": [
       "<xarray.DataArray 'latitude' ()>\n",
       "array(-7.29175165)\n",
       "Coordinates:\n",
       "    latitude  float64 -55.14"
      ]
     },
     "execution_count": 6,
     "metadata": {},
     "output_type": "execute_result"
    }
   ],
   "source": [
    "(np.pi)/gsw.f(ema[8489].latitude[0])/3600"
   ]
  },
  {
   "cell_type": "code",
   "execution_count": 7,
   "id": "e5c775e8",
   "metadata": {},
   "outputs": [],
   "source": [
    "depths = [0, 1600, 0, 1000, 1000, 1600, 0,    1600, 0, 1000, 1000, 1600, 0]\n",
    "time =   [0, 4,    8, 10.5, 18.5, 20,   24,   28,  32, 34.5, 42.5, 44, 48]"
   ]
  },
  {
   "cell_type": "code",
   "execution_count": 20,
   "id": "1d2b3cab",
   "metadata": {},
   "outputs": [
    {
     "data": {
      "text/plain": [
       "Text(0.28, 0.4, 'Drift')"
      ]
     },
     "execution_count": 20,
     "metadata": {},
     "output_type": "execute_result"
    },
    {
     "data": {
      "image/png": "[encoded data removed]",
      "text/plain": [
       "<Figure size 576x216 with 1 Axes>"
      ]
     },
     "metadata": {
      "needs_background": "light"
     },
     "output_type": "display_data"
    }
   ],
   "source": [
    "fig, ax = plt.subplots(figsize = (8,3))\n",
    "plt.plot(time, depths, linewidth = 2)\n",
    "ax.set_xticks(np.arange(0, 50, 4))\n",
    "plt.ylim(0,1600)\n",
    "ax.invert_yaxis()\n",
    "ax.set_ylabel(\"pressure (dbar)\")\n",
    "ax.set_xlabel(\"time (hours)\")\n",
    "\n",
    "# ax.axvline(x = 0, linestyle = '--', c = 'grey')\n",
    "ax.axvline(x = 24, linestyle = '--', c = 'grey')\n",
    "# ax.axvline(x = 48, linestyle = '--', c = 'grey')\n",
    "plt.xlim(0,48)\n",
    "\n",
    "# add text\n",
    "ax.text(-0.01, 1.03, f'GPS', transform = ax.transAxes, multialignment='center', fontsize = 12)\n",
    "ax.text(0.1, 1.02, f'GPS \\n + transmit', transform = ax.transAxes, multialignment='center', fontsize = 12)\n",
    "ax.text(0.43, 1.02, f'GPS \\n + transmit', transform = ax.transAxes, multialignment='center', fontsize = 12)\n",
    "ax.text(0.28, 0.4, 'Drift', transform = ax.transAxes, multialignment='center', fontsize = 12)\n"
   ]
  },
  {
   "cell_type": "code",
   "execution_count": 21,
   "id": "4f83bd7d",
   "metadata": {
    "scrolled": false
   },
   "outputs": [],
   "source": [
    "# settings.save_figure(fig, my_path, 'float_profiling_pattern.png', dpi = 600, pad = 0.2)"
   ]
  },
  {
   "cell_type": "code",
   "execution_count": 10,
   "id": "4d35fbc0",
   "metadata": {},
   "outputs": [],
   "source": [
    "d = {}\n",
    "rs = {}\n",
    "dx = {}\n",
    "speed = {}\n",
    "for floatid in floatids:\n",
    "    d[floatid] = settings.distanceAsCoord(ema[floatid])\n",
    "    rs[floatid] = calc.findRSperiod(ema[floatid])\n",
    "    dx[floatid] = np.gradient(d[floatid].distance[rs[floatid]])\n",
    "#     dx[floatid] = np.gradient(ds_dist[floatid].distance)\n",
    "    speed[floatid] = calc.speed(ds_dist[floatid].u_abs, ds_dist[floatid].v_abs).mean(dim = 'pressure')\n",
    "    "
   ]
  },
  {
   "cell_type": "code",
   "execution_count": 11,
   "id": "936d9cbd",
   "metadata": {},
   "outputs": [
    {
     "data": {
      "text/plain": [
       "Text(0, 0.5, 'no. profiles')"
      ]
     },
     "execution_count": 11,
     "metadata": {},
     "output_type": "execute_result"
    },
    {
     "data": {
      "image/png": "[encoded data removed]",
      "text/plain": [
       "<Figure size 504x288 with 1 Axes>"
      ]
     },
     "metadata": {
      "needs_background": "light"
     },
     "output_type": "display_data"
    }
   ],
   "source": [
    "fig, ax = plt.subplots(figsize = (7,4))\n",
    "\n",
    "i = 0\n",
    "cols = ['#66c2a5', '#fc8d62', '#8da0cb']\n",
    "\n",
    "for floatid in [8489, 8492, 8493]:\n",
    "    n, bins, patches = plt.hist(x=dx[floatid], bins=np.arange(0, 17,1), color = cols[i], edgecolor='black',\n",
    "                                alpha = 0.5, rwidth=0.85)\n",
    "    i += 1\n",
    "    \n",
    "ax.set_xticks(np.arange(0,17,2))\n",
    "plt.legend(floatids)\n",
    "plt.xlabel('distance between profiles (km)')\n",
    "plt.ylabel('no. profiles')"
   ]
  },
  {
   "cell_type": "code",
   "execution_count": 12,
   "id": "e946a7d1",
   "metadata": {},
   "outputs": [
    {
     "data": {
      "text/plain": [
       "3.3962155167511154"
      ]
     },
     "execution_count": 12,
     "metadata": {},
     "output_type": "execute_result"
    }
   ],
   "source": [
    "mean_dx = np.nanmean(np.concatenate([dx[8489], dx[8492], dx[8493]]))\n",
    "mean_dx"
   ]
  },
  {
   "cell_type": "code",
   "execution_count": 13,
   "id": "222f4519",
   "metadata": {},
   "outputs": [],
   "source": [
    "bins = np.arange(0, 17,1)"
   ]
  },
  {
   "cell_type": "code",
   "execution_count": 14,
   "id": "9e14d7e3",
   "metadata": {},
   "outputs": [],
   "source": [
    "## plot mean speed associated with the profiles in these distance bins to show that where the mean separation distance is large the float is in a jet."
   ]
  },
  {
   "cell_type": "code",
   "execution_count": 15,
   "id": "ba8747a0",
   "metadata": {
    "scrolled": true
   },
   "outputs": [],
   "source": [
    "speed_ct = xr.DataArray(np.concatenate([speed[8489], speed[8492], speed[8493]]), dims = 'dx', \n",
    "             coords = dict(dx = ('dx', np.concatenate([dx[8489], dx[8492], dx[8493]]))))"
   ]
  },
  {
   "cell_type": "code",
   "execution_count": 17,
   "id": "fd88d912",
   "metadata": {},
   "outputs": [],
   "source": [
    "binned_speed = speed_ct.groupby_bins('dx', bins =bins).mean()\n",
    "\n",
    "bin_mid_points = (bins-(np.gradient(bins)[0]/2))[1:]"
   ]
  },
  {
   "cell_type": "code",
   "execution_count": 22,
   "id": "0a726d46",
   "metadata": {},
   "outputs": [
    {
     "data": {
      "text/plain": [
       "Text(0, 0.5, 'no. profiles')"
      ]
     },
     "execution_count": 22,
     "metadata": {},
     "output_type": "execute_result"
    },
    {
     "data": {
      "image/png": "[encoded data removed]",
      "text/plain": [
       "<Figure size 576x288 with 2 Axes>"
      ]
     },
     "metadata": {
      "needs_background": "light"
     },
     "output_type": "display_data"
    }
   ],
   "source": [
    "fig, ax = plt.subplots(figsize = (8,4))\n",
    "n, bins, patches = plt.hist(x=[dx[8489], dx[8492], dx[8493]], bins=np.arange(0, 17,1), edgecolor='black', color = cols,\n",
    "                            alpha = 0.6, stacked = False)\n",
    "\n",
    "plt.legend([\"EM-8489\",\"EM-8492\",\"EM-8493\"], fontsize = 12, bbox_to_anchor=(-0.01, 0.3, 1., .102))\n",
    "plt.axvline(x = mean_dx, linestyle = '--', c = 'grey')\n",
    "# plt.gca().yaxis.set_major_formatter(PercentFormatter(1, decimals=0))\n",
    "\n",
    "ax2 = ax.twinx()\n",
    "ax2.plot(bin_mid_points, binned_speed, c = 'k', alpha = 0.6)\n",
    "ax2.scatter(bin_mid_points, binned_speed, c = 'k', alpha = 0.6)\n",
    "ax2.set_ylabel('depth-avg speed ($m$ $s^{-1}$)')\n",
    "ax2.set_ylim(0,0.7)\n",
    "\n",
    "ax.set_xticks(np.arange(0,17,1))\n",
    "ax.set_xlabel('distance between consecutive profiles (km)')\n",
    "ax.set_ylabel('no. profiles')"
   ]
  },
  {
   "cell_type": "code",
   "execution_count": 54,
   "id": "81dd8919",
   "metadata": {},
   "outputs": [
    {
     "data": {
      "text/plain": [
       "Text(0, 0.5, 'no. profiles')"
      ]
     },
     "execution_count": 54,
     "metadata": {},
     "output_type": "execute_result"
    },
    {
     "data": {
      "image/png": "[encoded data removed]",
      "text/plain": [
       "<Figure size 576x288 with 2 Axes>"
      ]
     },
     "metadata": {
      "needs_background": "light"
     },
     "output_type": "display_data"
    }
   ],
   "source": [
    "fig, ax = plt.subplots(figsize = (8,4))\n",
    "n, bins, patches = plt.hist(x=[dx[8489], dx[8492], dx[8493]], bins=np.arange(0, 17,1), edgecolor='black', color = cols,\n",
    "                            alpha = 0.6, stacked = False)\n",
    "\n",
    "plt.legend([\"EM-8489\",\"EM-8492\",\"EM-8493\"], fontsize = 12, bbox_to_anchor=(-0.01, 0.3, 1., .102))\n",
    "plt.axvline(x = mean_dx, linestyle = '--', c = 'grey')\n",
    "# plt.gca().yaxis.set_major_formatter(PercentFormatter(1, decimals=0))\n",
    "\n",
    "ax2 = ax.twinx()\n",
    "ax2.plot(bin_mid_points, binned_speed, c = 'k', alpha = 0.6)\n",
    "ax2.scatter(bin_mid_points, binned_speed, c = 'k', alpha = 0.6)\n",
    "ax2.set_ylabel('depth-avg speed ($m$ $s^{-1}$)')\n",
    "ax2.set_ylim(0,0.7)\n",
    "\n",
    "ax.set_xticks(np.arange(0,17,1))\n",
    "ax.set_xlabel('distance between consecutive profiles (km)')\n",
    "ax.set_ylabel('no. profiles')"
   ]
  },
  {
   "cell_type": "code",
   "execution_count": 23,
   "id": "e6531ff5",
   "metadata": {},
   "outputs": [],
   "source": [
    "# settings.save_figure(fig, my_path, 'dx_histogram.png', dpi = 600, pad = 0.2)"
   ]
  },
  {
   "cell_type": "code",
   "execution_count": null,
   "id": "8856c4fe",
   "metadata": {},
   "outputs": [],
   "source": []
  }
 ],
 "metadata": {
  "kernelspec": {
   "display_name": "Python [conda env:analysis]",
   "language": "python",
   "name": "conda-env-analysis-py"
  },
  "language_info": {
   "codemirror_mode": {
    "name": "ipython",
    "version": 3
   },
   "file_extension": ".py",
   "mimetype": "text/x-python",
   "name": "python",
   "nbconvert_exporter": "python",
   "pygments_lexer": "ipython3",
   "version": "3.7.12"
  }
 },
 "nbformat": 4,
 "nbformat_minor": 5
}
